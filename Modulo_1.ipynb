{
  "nbformat": 4,
  "nbformat_minor": 0,
  "metadata": {
    "colab": {
      "provenance": [],
      "authorship_tag": "ABX9TyPopzq1TmAWdyyZfSGy3AVM",
      "include_colab_link": true
    },
    "kernelspec": {
      "name": "python3",
      "display_name": "Python 3"
    },
    "language_info": {
      "name": "python"
    }
  },
  "cells": [
    {
      "cell_type": "markdown",
      "metadata": {
        "id": "view-in-github",
        "colab_type": "text"
      },
      "source": [
        "<a href=\"https://colab.research.google.com/github/EduardoMelonio/pythonlearn/blob/main/Modulo_1.ipynb\" target=\"_parent\"><img src=\"https://colab.research.google.com/assets/colab-badge.svg\" alt=\"Open In Colab\"/></a>"
      ]
    },
    {
      "cell_type": "code",
      "execution_count": null,
      "metadata": {
        "colab": {
          "base_uri": "https://localhost:8080/"
        },
        "id": "YWMeLVOmAN00",
        "outputId": "5206adf9-7531-4e2a-e5f2-b124efc5c47f"
      },
      "outputs": [
        {
          "output_type": "execute_result",
          "data": {
            "text/plain": [
              "[0, 1, 2, 3, 4, 5, 6, 7, 8, 9]"
            ]
          },
          "metadata": {},
          "execution_count": 1
        }
      ],
      "source": [
        "# example of list comprehension\n",
        "\n",
        "[x for x in range(10)]"
      ]
    },
    {
      "cell_type": "code",
      "source": [
        "#Using conditional with list comprehension\n",
        "# return X to each value of X in element, just if X is iqual 5\n",
        "\n",
        "list = [x for x in range(10) if x < 5]\n",
        "print(list)"
      ],
      "metadata": {
        "id": "HgtYSFr1AdQs",
        "colab": {
          "base_uri": "https://localhost:8080/"
        },
        "outputId": "2b4a1aff-41dc-4e5b-f0f1-02015cb665e3"
      },
      "execution_count": null,
      "outputs": [
        {
          "output_type": "stream",
          "name": "stdout",
          "text": [
            "[0, 1, 2, 3, 4]\n"
          ]
        }
      ]
    },
    {
      "cell_type": "code",
      "source": [
        "#traditional loop to search for words\n",
        "\n",
        "list_fruits = ['apple', 'banana', 'cherry', 'kiwi', 'mango']\n",
        "newlist = []\n",
        "\n",
        "for x in list_fruits:\n",
        "    if 'a' in x:\n",
        "        newlist.append(x)\n",
        "\n",
        "print(newlist)"
      ],
      "metadata": {
        "colab": {
          "base_uri": "https://localhost:8080/"
        },
        "id": "yPRlo2rwEIip",
        "outputId": "c41ac965-77c3-4e05-cac5-9998ba13f981"
      },
      "execution_count": null,
      "outputs": [
        {
          "output_type": "stream",
          "name": "stdout",
          "text": [
            "['apple', 'banana', 'mango']\n"
          ]
        }
      ]
    },
    {
      "cell_type": "code",
      "source": [
        "# student dictionary and grades\n",
        "\n",
        "students = {'bob': 68, 'Mycon': 84, 'matheus': 57, 'ana': 90}\n",
        "\n",
        "dic_students = {k: ('Aprovado' if v > 80 else 'Reprovado') for (k, v) in students.items()}\n",
        "print(dic_students)"
      ],
      "metadata": {
        "colab": {
          "base_uri": "https://localhost:8080/"
        },
        "id": "FhW9hmKlIPsZ",
        "outputId": "fc5becf3-e7b0-461f-c856-eea7c7bd17c6"
      },
      "execution_count": null,
      "outputs": [
        {
          "output_type": "stream",
          "name": "stdout",
          "text": [
            "{'bob': 'Reprovado', 'Mycon': 'Aprovado', 'matheus': 'Reprovado', 'ana': 'Aprovado'}\n"
          ]
        }
      ]
    }
  ]
}